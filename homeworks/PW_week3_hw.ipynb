{
 "cells": [
  {
   "cell_type": "markdown",
   "metadata": {},
   "source": [
    "# Googling how to do something is NOT cheating. \n",
    "# Googling how to do figure something out is ENCOURAGED. "
   ]
  },
  {
   "cell_type": "markdown",
   "metadata": {},
   "source": [
    "## #1 Figure out how to print the current date and time. \n",
    "The solution should be in this format:  2021-08-05 11:56:30 (YYYY-MM-DD HH:MM:SS)\n",
    "\n",
    "Hint:  You're going to have to import a library"
   ]
  },
  {
   "cell_type": "code",
   "execution_count": 16,
   "metadata": {},
   "outputs": [
    {
     "name": "stdout",
     "output_type": "stream",
     "text": [
      "2025-08-06 20:10:23\n"
     ]
    }
   ],
   "source": [
    "# datetime combines date and time\n",
    "# pytz enables accurate and timezone-aware datetime operations\n",
    "from datetime import datetime\n",
    "import pytz\n",
    "\n",
    "# Eastern Daylight Time, UTC-4 during March to November\n",
    "ET = pytz.timezone('America/New_York')\n",
    "\n",
    "eastern_time = datetime.now(ET)\n",
    "time_format = eastern_time.strftime(\"%Y-%m-%d %H:%M:%S\")\n",
    "print(time_format)"
   ]
  },
  {
   "cell_type": "markdown",
   "metadata": {},
   "source": [
    "## #2 Write a function that accepts the radius of a circle and returns the area of a circle.  \n",
    "The function for the area of a circle is pi * radius squared.  "
   ]
  },
  {
   "cell_type": "code",
   "execution_count": null,
   "metadata": {},
   "outputs": [
    {
     "name": "stdout",
     "output_type": "stream",
     "text": [
      "Invalid input. Enter a number.\n"
     ]
    }
   ],
   "source": [
    "#math provides a wide range of mathematical functions\n",
    "import math\n",
    "\n",
    "def circle_area(radius):\n",
    "    ''' Function takes radius of a circle and returns area of that circle'''\n",
    "\n",
    "    # Area of circle = pi * (r)^2\n",
    "    area = math.pi * (radius ** 2)\n",
    "    return area\n",
    "\n",
    "try:\n",
    "    user_input = float(input(\"Enter radius of the circle: \"))\n",
    "    area_of_circle = circle_area(user_input)\n",
    "    print(f\"The area of a circle with radius {user_input} is: {area_of_circle:.3f}\")\n",
    "except ValueError:\n",
    "    print(\"Invalid input. Enter a number.\")\n"
   ]
  },
  {
   "cell_type": "markdown",
   "metadata": {},
   "source": [
    "## #3 Write a function that takes a list of numbers and returns True of all number in the list are unique and returns False if the list contains duplicate numbers. \n",
    "* Hint, maybe think of using a set()\n",
    "\n",
    "Input:  input_list = [2,4,5,5,7,9]\n",
    "\n",
    "Expected Output:  False"
   ]
  },
  {
   "cell_type": "code",
   "execution_count": 40,
   "metadata": {},
   "outputs": [
    {
     "name": "stdout",
     "output_type": "stream",
     "text": [
      "False\n"
     ]
    }
   ],
   "source": [
    "def unique_list(input_list):\n",
    "    ''' Checks if all numbers in a list are unique. Returns boolean. '''\n",
    "\n",
    "    # convert list to set because set removes duplicates\n",
    "    unique_numbers = set(input_list)\n",
    "\n",
    "    # if length of original list is equal to the length of the set, then there's no duplicates\n",
    "    return len(input_list) == len(unique_numbers)\n",
    "\n",
    "input_list = [2, 4, 5, 5, 7, 9]\n",
    "\n",
    "# call function and store result\n",
    "T_or_F = unique_list(input_list)\n",
    "\n",
    "print(T_or_F)"
   ]
  },
  {
   "cell_type": "markdown",
   "metadata": {},
   "source": [
    "## #4 Write a Python program to count the number of each character of a given text of a text file.\n",
    "* Use the text file called 'lil-wayne.txt' in the data folder.  \n",
    "* Convert all the characters to uppercase first, then count them.  \n",
    "* Use a dictionary in which the keys of the dictionary are the characters, and the values are the counts of that character. \n",
    "\n",
    "Expected Result:  `{'D': 74, 'W': 63, 'A': 211, 'Y': 44, 'N': 165, 'E': 274, ' ': 522, 'M': 77, 'I': 185, 'C': 60, 'H': 122, 'L': 126, 'R': 152, 'T': 180, 'J': 8, '.': 26, '(': 12, 'B': 59, 'O': 145, 'S': 152, 'P': 39, '2': 24, '7': 7, ',': 37, '1': 28, '9': 16, '8': 6, ')': 12, '[': 14, ']': 14, 'K': 13, 'F': 44, 'G': 53, 'X': 5, 'U': 66, 'V': 20, '3': 2, '4': 4, '5': 5, '6': 3, '0': 36, '\\n': 6, '-': 6, ';': 1, '!': 1, '\"': 8, \"'\": 3, '—': 1}`"
   ]
  },
  {
   "cell_type": "code",
   "execution_count": null,
   "metadata": {},
   "outputs": [
    {
     "name": "stdout",
     "output_type": "stream",
     "text": [
      "{'D': 74, 'W': 63, 'A': 211, 'Y': 44, 'N': 165, 'E': 274, ' ': 522, 'M': 77, 'I': 185, 'C': 60, 'H': 122, 'L': 126, 'R': 152, 'T': 180, 'J': 8, '.': 26, '(': 12, 'B': 59, 'O': 145, 'S': 152, 'P': 39, '2': 24, '7': 7, ',': 37, '1': 28, '9': 16, '8': 6, ')': 12, '[': 14, ']': 14, 'K': 13, 'F': 44, 'G': 53, 'X': 5, 'U': 66, 'V': 20, '3': 2, '4': 4, '5': 5, '6': 3, '0': 36, '\\n': 6, '-': 6, ';': 1, '!': 1, '—': 1}\n"
     ]
    }
   ],
   "source": [
    "# provides a way to interact with the operating system\n",
    "import os\n",
    "\n",
    "def count_chars(filename):\n",
    "    '''Reads text file, converts all characters to uppercase, and counts the\n",
    "    frequency of each character using a dictionary.'''\n",
    "\n",
    "    # initialize empty dictionary to store character counts\n",
    "    char_counts = {}\n",
    "\n",
    "    # check if the file exists \n",
    "    if not os.path.exists(filename):\n",
    "        print(f\"Error: The file '{filename}' was not found.\")\n",
    "        return char_counts\n",
    "\n",
    "    try:\n",
    "        with open(filename, 'r', encoding='utf-8') as file:\n",
    "            text = file.read()\n",
    "            \n",
    "            # Convert all characters to uppercase\n",
    "            upper_text = text.upper()\n",
    "            \n",
    "            for char in upper_text:\n",
    "                # If the character is not in the dictionary, set its count to 1.\n",
    "                char_counts[char] = char_counts.get(char, 0) + 1\n",
    "                \n",
    "    except Exception as e:\n",
    "        print(f\"An error occurred: {e}\")\n",
    "        return {}\n",
    "\n",
    "    return char_counts\n",
    "\n",
    "# Specify the filename and path\n",
    "file_path = os.path.join('..', 'Week-03', 'beginner', 'data', 'lil-wayne.txt')\n",
    "\n",
    "# Call the function with the file path\n",
    "char_counts = count_chars(file_path)\n",
    "\n",
    "if char_counts:\n",
    "    print(char_counts)"
   ]
  },
  {
   "cell_type": "markdown",
   "metadata": {},
   "source": [
    "# 4.5 Figure out how to sort the dictionary to find which character appears the most."
   ]
  },
  {
   "cell_type": "code",
   "execution_count": null,
   "metadata": {},
   "outputs": [
    {
     "name": "stdout",
     "output_type": "stream",
     "text": [
      "{'D': 74, 'W': 63, 'A': 211, 'Y': 44, 'N': 165, 'E': 274, ' ': 522, 'M': 77, 'I': 185, 'C': 60, 'H': 122, 'L': 126, 'R': 152, 'T': 180, 'J': 8, '.': 26, '(': 12, 'B': 59, 'O': 145, 'S': 152, 'P': 39, '2': 24, '7': 7, ',': 37, '1': 28, '9': 16, '8': 6, ')': 12, '[': 14, ']': 14, 'K': 13, 'F': 44, 'G': 53, 'X': 5, 'U': 66, 'V': 20, '3': 2, '4': 4, '5': 5, '6': 3, '0': 36, '\\n': 6, '-': 6, ';': 1, '!': 1, '—': 1}\n",
      "The most frequent character is ' ' with a count of 522.\n"
     ]
    }
   ],
   "source": [
    "# provides a way to interact with the operating system\n",
    "import os\n",
    "\n",
    "def count_chars(filename):\n",
    "    '''Reads text file, converts all characters to uppercase, and counts the\n",
    "    frequency of each character using a dictionary.'''\n",
    "\n",
    "    # initialize empty dictionary to store character counts\n",
    "    char_counts = {}\n",
    "\n",
    "    # check if the file exists \n",
    "    if not os.path.exists(filename):\n",
    "        print(f\"Error: The file '{filename}' was not found.\")\n",
    "        return char_counts\n",
    "\n",
    "    try:\n",
    "        with open(filename, 'r', encoding='utf-8') as file:\n",
    "            text = file.read()\n",
    "            \n",
    "            # Convert all characters to uppercase\n",
    "            upper_text = text.upper()\n",
    "            \n",
    "            for char in upper_text:\n",
    "                # If the character is not in the dictionary, set its count to 1.\n",
    "                char_counts[char] = char_counts.get(char, 0) + 1\n",
    "                \n",
    "    except Exception as e:\n",
    "        print(f\"An error occurred: {e}\")\n",
    "        return {}\n",
    "\n",
    "    return char_counts\n",
    "\n",
    "# Specify the filename and path\n",
    "file_path = os.path.join('..', 'Week-03', 'beginner', 'data', 'lil-wayne.txt')\n",
    "\n",
    "# Call the function with the file path\n",
    "char_counts = count_chars(file_path)\n",
    "\n",
    "if char_counts:\n",
    "    print(char_counts)\n",
    "\n",
    "\n",
    "# code for question 4.5 starts here\n",
    "\n",
    "# initialize variables to keep track of the most frequent char and its count\n",
    "most_frequent_char = None\n",
    "most_frequent_count = 0\n",
    "\n",
    "for char, count in char_counts.items():\n",
    "    # if current char's count is greater than our current highest count\n",
    "    if count > most_frequent_count:\n",
    "        # update variables with the new highest count and char\n",
    "        most_frequent_count = count\n",
    "        most_frequent_char = char\n",
    "\n",
    "print(f\"The most frequent character is '{most_frequent_char}' with a count of {most_frequent_count}.\")\n"
   ]
  },
  {
   "cell_type": "markdown",
   "metadata": {},
   "source": [
    "## #5 Using the list below...\n",
    "* Remove the fourth number from the list.\n",
    "* Take that number you just removed and multiply the last number of the list by that number. \n",
    "* Append that number to the end of the list.\n",
    "* Print the list\n",
    "\n",
    "INPUT: [1, 1, 2, 3, 5, 8, 13, 21]\n",
    "\n",
    "EXPECTED OUTPUT:  [1, 1, 2, 5, 8, 13, 21, 63]\n",
    "\n"
   ]
  },
  {
   "cell_type": "code",
   "execution_count": 1,
   "metadata": {},
   "outputs": [
    {
     "name": "stdout",
     "output_type": "stream",
     "text": [
      "[1, 1, 2, 5, 8, 13, 21, 63]\n"
     ]
    }
   ],
   "source": [
    "list1 = [1, 1, 2, 3, 5, 8, 13, 21]\n",
    "\n",
    "# remove number at index 3 (4th element) from the list and store it\n",
    "removed_number = list1.pop(3)\n",
    "\n",
    "last_number = list1[-1]\n",
    "\n",
    "# multiply the removed number by the last number\n",
    "new_number = removed_number * last_number\n",
    "\n",
    "# append new number to the end of list\n",
    "list1.append(new_number)\n",
    "\n",
    "print(list1)"
   ]
  },
  {
   "cell_type": "markdown",
   "metadata": {},
   "source": [
    "## #6 Using the list below, make a new list that contains only the numbers from the original list that are divisible by three.\n",
    "\n",
    "* Input:  original_list = [2, 3, 6, 8, 9, 15, 19, 21]\n",
    "* Expected new list:  [3, 6, 9, 15, 21]\n"
   ]
  },
  {
   "cell_type": "code",
   "execution_count": null,
   "metadata": {},
   "outputs": [
    {
     "name": "stdout",
     "output_type": "stream",
     "text": [
      "[3, 6, 9, 15, 21]\n"
     ]
    }
   ],
   "source": [
    "original_list = [2, 3, 6, 8, 9, 15, 19, 21]\n",
    "\n",
    "divisible3 = []\n",
    "\n",
    "for number in original_list:\n",
    "    if number % 3 == 0:\n",
    "        # if number is divisible by 3, add it to new list\n",
    "        divisible3.append(number)\n",
    "\n",
    "print(divisible3)"
   ]
  },
  {
   "cell_type": "markdown",
   "metadata": {},
   "source": [
    "## #7 Reverse the list below"
   ]
  },
  {
   "cell_type": "code",
   "execution_count": null,
   "metadata": {},
   "outputs": [
    {
     "name": "stdout",
     "output_type": "stream",
     "text": [
      "[21, 19, 15, 9, 8, 6, 3, 2]\n"
     ]
    }
   ],
   "source": [
    "original_list = [2, 3, 6, 8, 9, 15, 19, 21]\n",
    "\n",
    "original_list.reverse()\n",
    "print(original_list)\n"
   ]
  },
  {
   "cell_type": "markdown",
   "metadata": {},
   "source": [
    "## #8 Using the list below, turn every item of the list into its square.  \n",
    "* Input original_list = [1, 2, 3, 4, 5, 6, 7]\n",
    "* Expected new_list:  [1, 4, 9, 16, 25, 36, 49]\n"
   ]
  },
  {
   "cell_type": "code",
   "execution_count": 6,
   "metadata": {},
   "outputs": [
    {
     "name": "stdout",
     "output_type": "stream",
     "text": [
      "[1, 4, 9, 16, 25, 36, 49]\n"
     ]
    }
   ],
   "source": [
    "original_list = [1, 2, 3, 4, 5, 6, 7]\n",
    "\n",
    "squared_list = [number ** 2 for number in original_list]\n",
    "\n",
    "print(squared_list)"
   ]
  },
  {
   "cell_type": "markdown",
   "metadata": {},
   "source": [
    "## #9  Given a two Python list. Iterate both lists simultaneously such that list1 should display item in original order and list2 in reverse order.\n",
    "Given input:\n",
    "```\n",
    "list1 = [10, 20, 30, 40]\n",
    "list2 = [100, 200, 300, 400]\n",
    "```\n",
    "\n",
    "Expected Output:\n",
    "```\n",
    "10 400\n",
    "20 300\n",
    "30 200\n",
    "40 100\n",
    "```"
   ]
  },
  {
   "cell_type": "code",
   "execution_count": 7,
   "metadata": {},
   "outputs": [
    {
     "name": "stdout",
     "output_type": "stream",
     "text": [
      "10 400\n",
      "20 300\n",
      "30 200\n",
      "40 100\n"
     ]
    }
   ],
   "source": [
    "list1 = [10, 20, 30, 40]\n",
    "list2 = [100, 200, 300, 400]\n",
    "\n",
    "length = len(list1)\n",
    "\n",
    "for i in range(length):\n",
    "    item1 = list1[i]\n",
    "    item2 = list2[length - 1 - i]\n",
    "    \n",
    "    print(item1, item2)"
   ]
  },
  {
   "cell_type": "markdown",
   "metadata": {},
   "source": [
    "## #10 Remove empty strings from the list of strings.\n",
    "Input:  `list_of_strings = ['I', 'love', '', '', 'data', '', 'science', '!']`\n",
    "\n",
    "Expected Output:  `['I', 'love', 'data', 'science', '!']`"
   ]
  },
  {
   "cell_type": "code",
   "execution_count": 8,
   "metadata": {},
   "outputs": [
    {
     "name": "stdout",
     "output_type": "stream",
     "text": [
      "['I', 'love', 'data', 'science', '!']\n"
     ]
    }
   ],
   "source": [
    "list_of_strings = ['I', 'love', '', '', 'data', '', 'science', '!']\n",
    "\n",
    "nospaces_list = []  \n",
    "\n",
    "for s in list_of_strings:\n",
    "    # check if string is not empty\n",
    "    if s != '':\n",
    "        # if not empty, add it to the no spaces list\n",
    "        nospaces_list.append(s)\n",
    "\n",
    "print(nospaces_list)"
   ]
  },
  {
   "cell_type": "markdown",
   "metadata": {},
   "source": [
    "##  #11 Check if the value 999 exists in the dicitionary below.  If so, print true, if not print false.\n",
    "\n",
    "Input: sample_dict = {'a': 100, 'b': 999, 'c': 300}\n",
    "\n",
    "Expected Output:  True"
   ]
  },
  {
   "cell_type": "code",
   "execution_count": 13,
   "metadata": {},
   "outputs": [
    {
     "name": "stdout",
     "output_type": "stream",
     "text": [
      "True\n"
     ]
    }
   ],
   "source": [
    "sample_dict = {'a': 100, 'b': 999, 'c': 300}\n",
    "\n",
    "exists = 999 in sample_dict.values()\n",
    "\n",
    "print(exists)"
   ]
  },
  {
   "cell_type": "markdown",
   "metadata": {},
   "source": [
    "# #12 Fix all the follow broken code snippets below\n",
    "(I got these examples from a great website, I will reference them later because they have the answers on them.)"
   ]
  },
  {
   "cell_type": "code",
   "execution_count": 26,
   "metadata": {},
   "outputs": [
    {
     "name": "stdout",
     "output_type": "stream",
     "text": [
      "Greetings, hater of pirates!\n"
     ]
    }
   ],
   "source": [
    "greeting = \"Hello, possible pirate! What's the password?\"\n",
    "password = 'admin'\n",
    "#message = greeting+password\n",
    "#if message in [\"Arrr!\"]:\n",
    "\n",
    "if password == 'Arrr!':\n",
    "\tprint(\"Go away, pirate.\")\n",
    "else:\n",
    "\tprint(\"Greetings, hater of pirates!\")\n",
    "    "
   ]
  },
  {
   "cell_type": "code",
   "execution_count": 38,
   "metadata": {},
   "outputs": [
    {
     "name": "stdout",
     "output_type": "stream",
     "text": [
      "1142.5\n"
     ]
    }
   ],
   "source": [
    "pages = 457\n",
    "#word_per_page == 250\n",
    "word_per_page = 250\n",
    "#number-of-pieces = 100\n",
    "number_of_pieces = 100\n",
    "\n",
    "#each_chunk = [457 * 250]/10\n",
    "## TypeError: unsupported operand type(s) for /: 'list' and 'int'\n",
    "total_words = pages * word_per_page\n",
    "each_chunk = total_words / number_of_pieces\n",
    "\n",
    "#print (\"each_chunk\")\n",
    "print(each_chunk)"
   ]
  },
  {
   "cell_type": "code",
   "execution_count": null,
   "metadata": {},
   "outputs": [],
   "source": []
  },
  {
   "cell_type": "code",
   "execution_count": null,
   "metadata": {},
   "outputs": [],
   "source": []
  },
  {
   "cell_type": "code",
   "execution_count": null,
   "metadata": {},
   "outputs": [],
   "source": []
  },
  {
   "cell_type": "markdown",
   "metadata": {},
   "source": [
    "# Extra Credit"
   ]
  },
  {
   "cell_type": "markdown",
   "metadata": {},
   "source": [
    "## Using pandas, read the csv file in the data folder called `titianic.csv` and store it as a variable named `df`."
   ]
  },
  {
   "cell_type": "code",
   "execution_count": 45,
   "metadata": {},
   "outputs": [],
   "source": [
    "import pandas as pd\n",
    "\n",
    "# read csv file and store it as a variable named df\n",
    "df = pd.read_csv(\"../Week-03/beginner/data/titanic.csv\")"
   ]
  },
  {
   "cell_type": "markdown",
   "metadata": {},
   "source": [
    "## I know we didn't cover this, but figure out how to find the mean age of the age column in your dataframe. "
   ]
  },
  {
   "cell_type": "code",
   "execution_count": null,
   "metadata": {},
   "outputs": [
    {
     "name": "stdout",
     "output_type": "stream",
     "text": [
      "Index(['passengerid', 'survived', 'pclass', 'name', 'sex', 'age', 'sibsp',\n",
      "       'parch', 'ticket', 'fare', 'cabin', 'embarked'],\n",
      "      dtype='object')\n",
      "Mean age: 29.69911764705882\n"
     ]
    }
   ],
   "source": [
    "# prints column names\n",
    "print(df.columns)\n",
    "\n",
    "mean_age = df[\"age\"].mean()\n",
    "print(\"Mean age:\", mean_age)"
   ]
  },
  {
   "cell_type": "markdown",
   "metadata": {},
   "source": [
    "## What was the oldest and youngest ages on the titanic?"
   ]
  },
  {
   "cell_type": "code",
   "execution_count": 52,
   "metadata": {},
   "outputs": [
    {
     "name": "stdout",
     "output_type": "stream",
     "text": [
      "Oldest age: 80.0\n",
      "Youngest age: 0.42\n"
     ]
    }
   ],
   "source": [
    "oldest_age = df[\"age\"].max()\n",
    "youngest_age = df[\"age\"].min()\n",
    "\n",
    "print(\"Oldest age:\", oldest_age)\n",
    "print(\"Youngest age:\", youngest_age)"
   ]
  },
  {
   "cell_type": "markdown",
   "metadata": {},
   "source": [
    "## How many people embarked from station 'S'?"
   ]
  },
  {
   "cell_type": "code",
   "execution_count": 56,
   "metadata": {},
   "outputs": [
    {
     "name": "stdout",
     "output_type": "stream",
     "text": [
      "People from station S: 644\n"
     ]
    }
   ],
   "source": [
    "count = 0\n",
    "for value in df[\"embarked\"]:\n",
    "    if value == \"S\":\n",
    "        count += 1\n",
    "\n",
    "print(\"People from station S:\", count)"
   ]
  }
 ],
 "metadata": {
  "kernelspec": {
   "display_name": "Python 3",
   "language": "python",
   "name": "python3"
  },
  "language_info": {
   "codemirror_mode": {
    "name": "ipython",
    "version": 3
   },
   "file_extension": ".py",
   "mimetype": "text/x-python",
   "name": "python",
   "nbconvert_exporter": "python",
   "pygments_lexer": "ipython3",
   "version": "3.12.1"
  }
 },
 "nbformat": 4,
 "nbformat_minor": 4
}
